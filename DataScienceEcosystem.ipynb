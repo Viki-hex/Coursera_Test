{
 "cells": [
  {
   "cell_type": "markdown",
   "id": "ff2a69e6-2a0f-42bf-b0b1-03496f161d85",
   "metadata": {},
   "source": [
    "# Data Science Tools and Ecosystem"
   ]
  },
  {
   "cell_type": "markdown",
   "id": "afc5f0b7-1677-48a3-beb7-465061a88a66",
   "metadata": {},
   "source": [
    "In this notebook, Data Science Tools and Ecosystem are summarized."
   ]
  },
  {
   "cell_type": "markdown",
   "id": "bdf192fd-7990-486a-ae51-4de57a64fce7",
   "metadata": {},
   "source": [
    "<b>Objectives:</b>\n",
    "<ul>\n",
    "    <li>List popular languages for Data Science</li>\n",
    "    <li>List popular libraries for Data Science</li>\n",
    "    <li>Table of Data Science Tools</li>\n",
    "    <li>Evaluating arithmetic expressions</li>\n",
    "</ul>"
   ]
  },
  {
   "cell_type": "markdown",
   "id": "be42317d-85d1-4df0-9f67-3d590b0e05f0",
   "metadata": {},
   "source": [
    "Some of the popular languages that Data Scientists use are:\n",
    "<ol>\n",
    "    <li>Python</li>\n",
    "    <li>R</li>\n",
    "    <li>Julia</li>\n",
    "</ol>"
   ]
  },
  {
   "cell_type": "markdown",
   "id": "32db3062-bead-4f08-bd97-99411bc39343",
   "metadata": {},
   "source": [
    "Some of the commonly used libraries used by Data Scientists include:\n",
    "<ol>\n",
    "    <Li>NumPys/li>\n",
    "    <li>PyTorch</li>\n",
    "    <li>TensorFlow</li>\n",
    "    <li>Keras</li>\n",
    "</ol>"
   ]
  },
  {
   "cell_type": "markdown",
   "id": "f82bf3fb-71e5-4cff-8bce-cf8b2fc9748b",
   "metadata": {},
   "source": [
    "| Data Science Tools |\n",
    "| ------------------ |\n",
    "| Eclipse |\n",
    "| Git |\n",
    "| Atom |\n",
    "| NetBeans |"
   ]
  },
  {
   "cell_type": "markdown",
   "id": "47212968-5b51-4767-a628-04452cb20abc",
   "metadata": {},
   "source": [
    "### Below are a few examples of evaluating arithmetic expressions in Python"
   ]
  },
  {
   "cell_type": "code",
   "execution_count": 8,
   "id": "91490dec-36cf-46f5-ab5c-6c47ae32349e",
   "metadata": {},
   "outputs": [
    {
     "name": "stdout",
     "output_type": "stream",
     "text": [
      "This a simple arithmetic expression to mutiply then add integers\n",
      "17\n"
     ]
    }
   ],
   "source": [
    "print (\"This a simple arithmetic expression to mutiply then add integers\")\n",
    "print ((3*4)+5)"
   ]
  },
  {
   "cell_type": "code",
   "execution_count": 10,
   "id": "525cbf52-4dc2-4bc9-8974-9acc27c1a24a",
   "metadata": {},
   "outputs": [
    {
     "name": "stdout",
     "output_type": "stream",
     "text": [
      "This will convert 200 minutes to hours by diving by 60\n",
      "3.3333333333333335\n"
     ]
    }
   ],
   "source": [
    "print (\"This will convert 200 minutes to hours by diving by 60\")\n",
    "print (200/60)"
   ]
  },
  {
   "cell_type": "markdown",
   "id": "2d1d9f57-2619-491b-90eb-e93c87da6c35",
   "metadata": {},
   "source": [
    "## Author\n",
    "Vignesh Kannan"
   ]
  }
 ],
 "metadata": {
  "kernelspec": {
   "display_name": "Python 3 (ipykernel)",
   "language": "python",
   "name": "python3"
  },
  "language_info": {
   "codemirror_mode": {
    "name": "ipython",
    "version": 3
   },
   "file_extension": ".py",
   "mimetype": "text/x-python",
   "name": "python",
   "nbconvert_exporter": "python",
   "pygments_lexer": "ipython3",
   "version": "3.9.6"
  }
 },
 "nbformat": 4,
 "nbformat_minor": 5
}
